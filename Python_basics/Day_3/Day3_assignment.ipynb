{
 "cells": [
  {
   "cell_type": "markdown",
   "id": "9049472d",
   "metadata": {},
   "source": [
    "## Day 3 assignment"
   ]
  },
  {
   "cell_type": "markdown",
   "id": "4a2655eb",
   "metadata": {},
   "source": [
    "#### Installing pandas and numpy"
   ]
  },
  {
   "cell_type": "code",
   "execution_count": 1,
   "id": "1cba2596",
   "metadata": {},
   "outputs": [
    {
     "name": "stdout",
     "output_type": "stream",
     "text": [
      "Requirement already satisfied: pandas in c:\\users\\pc\\.vscode\\repos\\basic\\python_basics\\env\\lib\\site-packages (2.3.2)\n",
      "Requirement already satisfied: numpy>=1.26.0 in c:\\users\\pc\\.vscode\\repos\\basic\\python_basics\\env\\lib\\site-packages (from pandas) (2.3.2)\n",
      "Requirement already satisfied: python-dateutil>=2.8.2 in c:\\users\\pc\\.vscode\\repos\\basic\\python_basics\\env\\lib\\site-packages (from pandas) (2.9.0.post0)\n",
      "Requirement already satisfied: pytz>=2020.1 in c:\\users\\pc\\.vscode\\repos\\basic\\python_basics\\env\\lib\\site-packages (from pandas) (2025.2)\n",
      "Requirement already satisfied: tzdata>=2022.7 in c:\\users\\pc\\.vscode\\repos\\basic\\python_basics\\env\\lib\\site-packages (from pandas) (2025.2)\n",
      "Requirement already satisfied: six>=1.5 in c:\\users\\pc\\.vscode\\repos\\basic\\python_basics\\env\\lib\\site-packages (from python-dateutil>=2.8.2->pandas) (1.17.0)\n"
     ]
    }
   ],
   "source": [
    "! pip install pandas"
   ]
  },
  {
   "cell_type": "code",
   "execution_count": 2,
   "id": "f19077cb",
   "metadata": {},
   "outputs": [
    {
     "name": "stdout",
     "output_type": "stream",
     "text": [
      "Requirement already satisfied: numpy in c:\\users\\pc\\.vscode\\repos\\basic\\python_basics\\env\\lib\\site-packages (2.3.2)\n"
     ]
    }
   ],
   "source": [
    "! pip install numpy"
   ]
  },
  {
   "cell_type": "markdown",
   "id": "998a0a30",
   "metadata": {},
   "source": [
    "#### Creating a 2D 3x3 array"
   ]
  },
  {
   "cell_type": "code",
   "execution_count": 4,
   "id": "3ae1b310",
   "metadata": {},
   "outputs": [
    {
     "name": "stdout",
     "output_type": "stream",
     "text": [
      "[[1 2 3]\n",
      " [4 5 6]\n",
      " [7 8 9]]\n"
     ]
    }
   ],
   "source": [
    "import numpy as np\n",
    "arr2d=np.array([[1,2,3],[4,5,6],[7,8,9]])\n",
    "print(arr2d)"
   ]
  },
  {
   "cell_type": "markdown",
   "id": "238974a2",
   "metadata": {},
   "source": [
    "#### Multiplying each element in array by 2"
   ]
  },
  {
   "cell_type": "code",
   "execution_count": 5,
   "id": "07459d9e",
   "metadata": {},
   "outputs": [
    {
     "name": "stdout",
     "output_type": "stream",
     "text": [
      "[[ 2  4  6]\n",
      " [ 8 10 12]\n",
      " [14 16 18]]\n"
     ]
    }
   ],
   "source": [
    "#multiplying 2 to each element of array and store in new array\n",
    "arr2d_mult=arr2d*2\n",
    "print(arr2d_mult)\n"
   ]
  },
  {
   "cell_type": "markdown",
   "id": "f4408316",
   "metadata": {},
   "source": [
    "#### Creating a dataframe of products using dictionary"
   ]
  },
  {
   "cell_type": "code",
   "execution_count": 7,
   "id": "dcd5b156",
   "metadata": {},
   "outputs": [
    {
     "name": "stdout",
     "output_type": "stream",
     "text": [
      "  product_name  product_price  product_quantity\n",
      "0         Soap            100                40\n",
      "1        Brush            200                60\n",
      "2       Powder            300               100\n"
     ]
    }
   ],
   "source": [
    "import pandas as pd\n",
    "data={'product_name':['Soap','Brush','Powder'],\n",
    "      'product_price':[100,200,300],\n",
    "      'product_quantity':[40,60,100]}\n",
    "df=pd.DataFrame(data)\n",
    "print(df)\n"
   ]
  },
  {
   "cell_type": "markdown",
   "id": "ed7b0f4e",
   "metadata": {},
   "source": [
    "#### Filtering products whose quantity is greater than 50"
   ]
  },
  {
   "cell_type": "code",
   "execution_count": 8,
   "id": "cfc49508",
   "metadata": {},
   "outputs": [
    {
     "name": "stdout",
     "output_type": "stream",
     "text": [
      "  product_name  product_price  product_quantity\n",
      "1        Brush            200                60\n",
      "2       Powder            300               100\n"
     ]
    }
   ],
   "source": [
    "#printing the products with quantity more than 50\n",
    "print(df[df['product_quantity']>50])"
   ]
  }
 ],
 "metadata": {
  "kernelspec": {
   "display_name": "env (3.13.7)",
   "language": "python",
   "name": "python3"
  },
  "language_info": {
   "codemirror_mode": {
    "name": "ipython",
    "version": 3
   },
   "file_extension": ".py",
   "mimetype": "text/x-python",
   "name": "python",
   "nbconvert_exporter": "python",
   "pygments_lexer": "ipython3",
   "version": "3.13.7"
  }
 },
 "nbformat": 4,
 "nbformat_minor": 5
}
